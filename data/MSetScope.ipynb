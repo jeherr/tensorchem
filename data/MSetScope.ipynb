{
 "cells": [
  {
   "cell_type": "code",
   "execution_count": 1,
   "metadata": {},
   "outputs": [],
   "source": [
    "from tensorchem.dataset.molecule import MoleculeSet as MSet\n",
    "import glob\n",
    "import json\n",
    "import matplotlib.pyplot as plt\n",
    "%matplotlib inline"
   ]
  },
  {
   "cell_type": "code",
   "execution_count": 2,
   "metadata": {},
   "outputs": [],
   "source": [
    "msets = []\n",
    "mset_natoms = []\n",
    "mset_elements = []"
   ]
  },
  {
   "cell_type": "code",
   "execution_count": 3,
   "metadata": {},
   "outputs": [],
   "source": [
    "for mol in glob.glob(\"/mnt/sdb1/jeherr/chemspider_data/expanded_msets/meta/*.mset\")+glob.glob(\"/mnt/sdb1/jeherr/chemspider_data/expanded_msets/aimd/*.mset\"):\n",
    "    mset = MSet()\n",
    "    mset.filename = mol\n",
    "    try:\n",
    "        mset.load()\n",
    "        repeat = False\n",
    "        for prev_mset in msets:\n",
    "            if mset.is_isomer(prev_mset):\n",
    "                repeat = True \n",
    "        if repeat is False:\n",
    "            msets.append(mset)\n",
    "            mset_natoms.append(mset.n_atoms)\n",
    "            mset_elements.append(mset.elements)\n",
    "    except json.JSONDecodeError:\n",
    "        pass"
   ]
  },
  {
   "cell_type": "code",
   "execution_count": 5,
   "metadata": {},
   "outputs": [
    {
     "name": "stdout",
     "output_type": "stream",
     "text": [
      "Total number of unique molecules:  3025\n"
     ]
    }
   ],
   "source": [
    "print(\"Total number of unique molecules: \", len(msets))"
   ]
  },
  {
   "cell_type": "code",
   "execution_count": 7,
   "metadata": {},
   "outputs": [
    {
     "data": {
      "image/png": "[encoded data removed]",
      "text/plain": [
       "<Figure size 432x288 with 1 Axes>"
      ]
     },
     "metadata": {
      "needs_background": "light"
     },
     "output_type": "display_data"
    }
   ],
   "source": [
    "plt.hist(mset_natoms, edgecolor='k', range=[0,70])\n",
    "plt.xlabel(\"Number of Atoms per Unique Molecule\")\n",
    "plt.ylabel(\"Number of Unique Molecules\")\n",
    "plt.title('Histogram of Atoms per Unique Molecule')\n",
    "plt.show()"
   ]
  },
  {
   "cell_type": "code",
   "execution_count": null,
   "metadata": {},
   "outputs": [],
   "source": []
  }
 ],
 "metadata": {
  "kernelspec": {
   "display_name": "Python 3",
   "language": "python",
   "name": "python3"
  },
  "language_info": {
   "codemirror_mode": {
    "name": "ipython",
    "version": 3
   },
   "file_extension": ".py",
   "mimetype": "text/x-python",
   "name": "python",
   "nbconvert_exporter": "python",
   "pygments_lexer": "ipython3",
   "version": "3.8.3"
  }
 },
 "nbformat": 4,
 "nbformat_minor": 4
}
