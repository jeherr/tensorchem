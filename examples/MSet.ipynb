{
 "cells": [
  {
   "cell_type": "markdown",
   "metadata": {},
   "source": [
    "MoleculeSets (MSets) are objects which contain geometries of a single molecule. They can be saved and loaded in JSON format."
   ]
  },
  {
   "cell_type": "code",
   "execution_count": 1,
   "metadata": {},
   "outputs": [],
   "source": [
    "from tensorchem.dataset.molecule import MoleculeSet as MSet"
   ]
  },
  {
   "cell_type": "code",
   "execution_count": 2,
   "metadata": {},
   "outputs": [],
   "source": [
    "mset = MSet()\n",
    "mset.filename = \"/home/adriscoll/tensorchem/data/827.mset\"\n",
    "mset.load()"
   ]
  },
  {
   "cell_type": "markdown",
   "metadata": {},
   "source": [
    "MSets contain a list of internal atom objects. A minimal atom object has an atomic number (at_num) property. MSets will generally have a set of minimal atom objects, and geometries will be built by filling in coordinates and properties of the atoms."
   ]
  },
  {
   "cell_type": "code",
   "execution_count": 3,
   "metadata": {},
   "outputs": [
    {
     "name": "stdout",
     "output_type": "stream",
     "text": [
      "(C, C, C, C, O, C, O, O, O, O, P, O, O, O, H, H, H, H, H, H, H, H, H, H, H)\n",
      "{'C': 5, 'O': 8, 'P': 1, 'H': 11}\n"
     ]
    }
   ],
   "source": [
    "print(mset.atoms)\n",
    "print(mset.chem_formula)"
   ]
  },
  {
   "cell_type": "markdown",
   "metadata": {},
   "source": [
    "MSets contain a list of geometries. Each geometry is the same molecule, but should have a different coordinates and labels."
   ]
  },
  {
   "cell_type": "code",
   "execution_count": 12,
   "metadata": {},
   "outputs": [
    {
     "name": "stdout",
     "output_type": "stream",
     "text": [
      "198\n",
      "25\n",
      "\n",
      "C   -0.609065   -2.063300    0.617735\n",
      "C   -0.951023   -0.773069    1.359740\n",
      "C    0.007446    0.383751    1.013823\n",
      "C    0.009742    0.585753   -0.546248\n",
      "O   -1.188619    0.311673   -0.995351\n",
      "C    0.359019    2.048712   -0.893492\n",
      "O   -0.227511    2.326901   -2.132044\n",
      "O   -0.304154    1.546878    1.737639\n",
      "O   -2.223096   -0.323858    1.221318\n",
      "O    0.758994   -2.018870    0.653726\n",
      "P    1.339833   -1.344583   -0.486077\n",
      "O    0.970552   -0.090787   -1.132478\n",
      "O    2.617841   -1.076326    0.059545\n",
      "O    1.340349   -2.273430   -1.546471\n",
      "H   -0.869083   -2.012765   -0.412241\n",
      "H   -1.089077   -2.939845    1.120861\n",
      "H   -0.892270   -0.956514    2.417439\n",
      "H    1.070877    0.070961    1.249770\n",
      "H    1.403939    2.190516   -1.027103\n",
      "H   -0.014397    2.797872   -0.170286\n",
      "H   -0.871062    1.631509   -2.295580\n",
      "H   -1.250139    1.575366    1.553061\n",
      "H   -2.369106   -0.000930    0.269022\n",
      "H    2.595776   -1.549451    0.932086\n",
      "H    1.765436   -1.939143   -2.311242\n",
      "25\n",
      "\n",
      "C   -0.493911   -1.633480    0.490597\n",
      "C   -0.843841   -0.468058    1.351717\n",
      "C   -0.130217    0.834953    1.072256\n",
      "C   -0.575162    1.232421   -0.308824\n",
      "O   -1.209888    0.419453   -0.882713\n",
      "C   -0.030916    2.439900   -1.065286\n",
      "O   -0.893549    2.684659   -2.143035\n",
      "O   -0.503036    1.852013    2.010799\n",
      "O   -2.186537   -0.172540    1.228357\n",
      "O    0.810528   -2.157735    0.618930\n",
      "P    1.652795   -1.695228   -0.542039\n",
      "O    1.317946   -0.354589   -0.809077\n",
      "O    2.995812   -1.804425    0.239323\n",
      "O    1.746461   -2.795148   -1.639721\n",
      "H   -0.692489   -1.428033   -0.538640\n",
      "H   -1.126691   -2.496859    0.807161\n",
      "H   -0.588082   -0.732145    2.404234\n",
      "H    0.936210    0.691225    0.883177\n",
      "H    0.971638    2.080566   -1.326784\n",
      "H    0.044262    3.363269   -0.566986\n",
      "H   -1.419514    1.922541   -2.224562\n",
      "H   -1.381526    1.588804    2.299921\n",
      "H   -2.418364    0.068363    0.336636\n",
      "H    2.680733   -1.965849    1.128520\n",
      "H    2.606020   -2.648814   -2.118609\n"
     ]
    }
   ],
   "source": [
    "print(len(mset.geometries))\n",
    "print(mset.geometries[0])\n",
    "print(mset.geometries[197])"
   ]
  },
  {
   "cell_type": "code",
   "execution_count": 13,
   "metadata": {
    "scrolled": true
   },
   "outputs": [
    {
     "name": "stdout",
     "output_type": "stream",
     "text": [
      "potential [(-1140.0294724, wB97X-D, 6-311g**)]\n",
      "dipole [([5.0901000, -6.7908000, 1.5120000], wB97X-D, 6-311g**)]\n",
      "quadrupole [([-82.3166000, -6.0890000, -87.5987000, -3.0621000, 4.4634000, -91.8781000], wB97X-D, 6-311g**)]\n"
     ]
    }
   ],
   "source": [
    "geometry = mset.geometries[100]\n",
    "for key, value in geometry.labels.items():\n",
    "    print(key, value)"
   ]
  },
  {
   "cell_type": "markdown",
   "metadata": {},
   "source": [
    "Geometries themselves are also a list of atom objects, but in a geometry the atoms should have a set of coordinates."
   ]
  },
  {
   "cell_type": "code",
   "execution_count": 15,
   "metadata": {},
   "outputs": [
    {
     "data": {
      "text/plain": [
       "{'charge': [(0.0000, mulliken, wB97X-D, 6-311g**)],\n",
       " 'forces': [([0.0537391, -0.0715176, 0.0150585], wB97X-D, 6-311g**)]}"
      ]
     },
     "execution_count": 15,
     "metadata": {},
     "output_type": "execute_result"
    }
   ],
   "source": [
    "geometry.atoms\n",
    "atom = geometry.atoms[7]\n",
    "atom.labels"
   ]
  },
  {
   "cell_type": "code",
   "execution_count": null,
   "metadata": {},
   "outputs": [],
   "source": []
  }
 ],
 "metadata": {
  "kernelspec": {
   "display_name": "Python 3",
   "language": "python",
   "name": "python3"
  },
  "language_info": {
   "codemirror_mode": {
    "name": "ipython",
    "version": 3
   },
   "file_extension": ".py",
   "mimetype": "text/x-python",
   "name": "python",
   "nbconvert_exporter": "python",
   "pygments_lexer": "ipython3",
   "version": "3.8.3"
  }
 },
 "nbformat": 4,
 "nbformat_minor": 4
}
