{
 "cells": [
  {
   "cell_type": "markdown",
   "metadata": {},
   "source": [
    "MoleculeSets (MSets) are objects which contain geometries of a single molecule. They can be saved and loaded in JSON format."
   ]
  },
  {
   "cell_type": "code",
   "execution_count": 1,
   "metadata": {},
   "outputs": [],
   "source": [
    "from tensorchem.dataset.molecule import MoleculeSet as MSet"
   ]
  },
  {
   "cell_type": "code",
   "execution_count": 2,
   "metadata": {},
   "outputs": [],
   "source": [
    "mset = MSet()\n",
    "mset.filename = \"../data/chemspider_1.mset\"\n",
    "mset.load()"
   ]
  },
  {
   "cell_type": "markdown",
   "metadata": {},
   "source": [
    "MSets contain a list of internal atom objects. A minimal atom object has an atomic number (at_num) property. MSets will generally have a set of minimal atom objects, and geometries will be built by filling in coordinates and properties of the atoms."
   ]
  },
  {
   "cell_type": "code",
   "execution_count": 3,
   "metadata": {},
   "outputs": [
    {
     "name": "stdout",
     "output_type": "stream",
     "text": [
      "<class 'tuple'>\n",
      "<class 'tensorchem.dataset.molecule.Atom'>\n",
      "[8, 7, 6, 6, 6, 6, 6, 6, 6, 6, 6, 6, 1, 1, 1, 1, 1, 1, 1, 1, 1, 1, 1, 1, 1, 1, 1, 1, 1, 1]\n"
     ]
    },
    {
     "data": {
      "text/plain": [
       "{'at_num': 8, 'xyz': (None, None, None), 'labels': {}}"
      ]
     },
     "execution_count": 3,
     "metadata": {},
     "output_type": "execute_result"
    }
   ],
   "source": [
    "print(type(mset.atoms))\n",
    "print(type(mset.atoms[0]))\n",
    "print([atom.at_num for atom in mset.atoms])\n",
    "mset.atoms[0].__dict__"
   ]
  },
  {
   "cell_type": "markdown",
   "metadata": {},
   "source": [
    "MSets will typically contain a list of geometries. Each geometry is the same molecule, but should have a different coordinates and labels."
   ]
  },
  {
   "cell_type": "code",
   "execution_count": 4,
   "metadata": {
    "scrolled": true
   },
   "outputs": [
    {
     "name": "stdout",
     "output_type": "stream",
     "text": [
      "218\n",
      "30\n",
      "\n",
      "O     3.2063876339     -0.6707270711     0.229857304\n",
      "N     0.6483069702     0.5304208499     0.1283209082\n",
      "C     -0.6592259395     0.8925946828     -0.5088617461\n",
      "C     -1.7236068981     1.429474823     0.4916227865\n",
      "C     -1.2268321478     -0.1807404342     -1.487619928\n",
      "C     -2.591247975     0.3301385863     1.1548847261\n",
      "C     -2.1384801617     -1.2602704236     -0.8462667096\n",
      "C     -3.1905697266     -0.65350216     0.1167462092\n",
      "C     0.8707975622     -0.6540844726     1.0077923788\n",
      "C     1.8632786992     1.3733869179     -0.0839543744\n",
      "C     2.0427067778     -1.4926322842     0.4414494014\n",
      "C     3.0055823809     0.4773834018     -0.6164265033\n",
      "H     -0.4097199463     1.7238423179     -1.1346934058\n",
      "H     -2.3735651285     2.0953149129     -0.0366899589\n",
      "H     -1.1850490203     1.9108679552     1.2809981994\n",
      "H     -0.3981405359     -0.6796362103     -1.9450879664\n",
      "H     -1.8467758131     0.3523385553     -2.1778346499\n",
      "H     -3.3924519689     0.7987678788     1.6872093321\n",
      "H     -1.9610303379     -0.23181813     1.8120986889\n",
      "H     -1.5258334807     -1.9448779191     -0.297747941\n",
      "H     -2.6665606932     -1.7510951924     -1.6369127694\n",
      "H     -3.9182730217     -0.1279957129     -0.4656568984\n",
      "H     -3.6171960373     -1.4664869229     0.6662340073\n",
      "H     -0.0165317086     -1.2513973827     1.0356231288\n",
      "H     1.1070852581     -0.3277586804     1.9990482553\n",
      "H     2.1581979786     1.8188538394     0.8431229165\n",
      "H     1.6492692587     2.1475688143     -0.7908818506\n",
      "H     2.28446685     -2.2705127509     1.1352473071\n",
      "H     1.7429070295     -1.9096049399     -0.4972468714\n",
      "H     2.7570322198     0.1446046111     -1.6025171832\n",
      "\n",
      "{'wb97x-d.6-311gss.energy': -522.4070356963, 'wb97x-d.6-311gss.dipole': [-1.5274, 0.5444, -0.5732], 'wb97x-d.6-311gss.quadrupole': [[-82.3755, -1.3086], [3.1673, -2.2654], [-72.9891, -74.8204]]}\n"
     ]
    }
   ],
   "source": [
    "print(len(mset))\n",
    "print(mset[0])\n",
    "print(mset[0].labels)"
   ]
  },
  {
   "cell_type": "markdown",
   "metadata": {},
   "source": [
    "Geometries themselves are also a list of atom objects, but in a geometry the atoms should have a set of coordinates."
   ]
  },
  {
   "cell_type": "code",
   "execution_count": 5,
   "metadata": {},
   "outputs": [
    {
     "name": "stdout",
     "output_type": "stream",
     "text": [
      "8 (3.2063876339, -0.6707270711, 0.229857304)\n",
      "7 (0.6483069702, 0.5304208499, 0.1283209082)\n",
      "6 (-0.6592259395, 0.8925946828, -0.5088617461)\n",
      "6 (-1.7236068981, 1.429474823, 0.4916227865)\n",
      "6 (-1.2268321478, -0.1807404342, -1.487619928)\n",
      "6 (-2.591247975, 0.3301385863, 1.1548847261)\n",
      "6 (-2.1384801617, -1.2602704236, -0.8462667096)\n",
      "6 (-3.1905697266, -0.65350216, 0.1167462092)\n",
      "6 (0.8707975622, -0.6540844726, 1.0077923788)\n",
      "6 (1.8632786992, 1.3733869179, -0.0839543744)\n",
      "6 (2.0427067778, -1.4926322842, 0.4414494014)\n",
      "6 (3.0055823809, 0.4773834018, -0.6164265033)\n",
      "1 (-0.4097199463, 1.7238423179, -1.1346934058)\n",
      "1 (-2.3735651285, 2.0953149129, -0.0366899589)\n",
      "1 (-1.1850490203, 1.9108679552, 1.2809981994)\n",
      "1 (-0.3981405359, -0.6796362103, -1.9450879664)\n",
      "1 (-1.8467758131, 0.3523385553, -2.1778346499)\n",
      "1 (-3.3924519689, 0.7987678788, 1.6872093321)\n",
      "1 (-1.9610303379, -0.23181813, 1.8120986889)\n",
      "1 (-1.5258334807, -1.9448779191, -0.297747941)\n",
      "1 (-2.6665606932, -1.7510951924, -1.6369127694)\n",
      "1 (-3.9182730217, -0.1279957129, -0.4656568984)\n",
      "1 (-3.6171960373, -1.4664869229, 0.6662340073)\n",
      "1 (-0.0165317086, -1.2513973827, 1.0356231288)\n",
      "1 (1.1070852581, -0.3277586804, 1.9990482553)\n",
      "1 (2.1581979786, 1.8188538394, 0.8431229165)\n",
      "1 (1.6492692587, 2.1475688143, -0.7908818506)\n",
      "1 (2.28446685, -2.2705127509, 1.1352473071)\n",
      "1 (1.7429070295, -1.9096049399, -0.4972468714)\n",
      "1 (2.7570322198, 0.1446046111, -1.6025171832)\n"
     ]
    }
   ],
   "source": [
    "geom = mset[0]\n",
    "for atom in geom.atoms:\n",
    "    print(atom.at_num, atom.xyz)"
   ]
  },
  {
   "cell_type": "code",
   "execution_count": 6,
   "metadata": {},
   "outputs": [],
   "source": [
    "mset2 = MSet()\n",
    "mset2.filename = \"../data/chemspider_2.mset\"\n",
    "mset2.load()"
   ]
  },
  {
   "cell_type": "code",
   "execution_count": 7,
   "metadata": {},
   "outputs": [
    {
     "name": "stdout",
     "output_type": "stream",
     "text": [
      "{8: 1, 7: 1, 6: 10, 1: 18}\n",
      "{6: 8, 1: 11, 8: 2}\n"
     ]
    }
   ],
   "source": [
    "print(mset.chem_formula)\n",
    "print(mset2.chem_formula)"
   ]
  },
  {
   "cell_type": "code",
   "execution_count": 9,
   "metadata": {},
   "outputs": [
    {
     "name": "stdout",
     "output_type": "stream",
     "text": [
      "False\n",
      "True\n"
     ]
    }
   ],
   "source": [
    "print(mset.is_isomer(mset2))\n",
    "print(mset.is_isomer(mset))"
   ]
  },
  {
   "cell_type": "code",
   "execution_count": null,
   "metadata": {},
   "outputs": [],
   "source": []
  }
 ],
 "metadata": {
  "kernelspec": {
   "display_name": "Python 3",
   "language": "python",
   "name": "python3"
  },
  "language_info": {
   "codemirror_mode": {
    "name": "ipython",
    "version": 3
   },
   "file_extension": ".py",
   "mimetype": "text/x-python",
   "name": "python",
   "nbconvert_exporter": "python",
   "pygments_lexer": "ipython3",
   "version": "3.7.7"
  }
 },
 "nbformat": 4,
 "nbformat_minor": 4
}
