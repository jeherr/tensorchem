{
 "cells": [
  {
   "cell_type": "markdown",
   "metadata": {},
   "source": [
    "The MSets containing Chemspider Data were then converted into SMILES strings for the purpose of comparing the \n",
    "similarity across all MSets. This was done by calculating the Tanimoto similarity scores between SMILES strings."
   ]
  },
  {
   "cell_type": "code",
   "execution_count": 1,
   "metadata": {},
   "outputs": [],
   "source": [
    "from tensorchem.dataset.molecule import MoleculeSet\n",
    "from scripts.mset_to_smiles import mset_to_smiles, get_min_geom\n",
    "from tensorchem.util.xyz2mol import geom_to_smiles"
   ]
  },
  {
   "cell_type": "markdown",
   "metadata": {},
   "source": [
    "It is necessary to input the filename into the MSet to SMILES converter, so I will create and load a new MSet from\n",
    "storage."
   ]
  },
  {
   "cell_type": "code",
   "execution_count": 2,
   "metadata": {},
   "outputs": [],
   "source": [
    "mset = MoleculeSet()\n",
    "mset.filename = '/mnt/sdb1/adriscoll/chemspider_data/expanded_msets/meta/1159.mset'\n",
    "mset.load()"
   ]
  },
  {
   "cell_type": "markdown",
   "metadata": {},
   "source": [
    "The mset to smiles function utilizes the minimum geometry to convert the MSet to a SMILES string."
   ]
  },
  {
   "cell_type": "code",
   "execution_count": 3,
   "metadata": {},
   "outputs": [
    {
     "name": "stdout",
     "output_type": "stream",
     "text": [
      "34\n",
      "\n",
      "C   -0.699385   -1.580531    0.709902\n",
      "C   -1.913825   -2.265236    0.663639\n",
      "C   -2.992728   -1.769931   -0.025150\n",
      "C   -2.879689   -0.551652   -0.724719\n",
      "C   -1.660898    0.110764   -0.711190\n",
      "C   -0.579464   -0.369600    0.026837\n",
      "N    0.635978    0.360893   -0.040235\n",
      "C    1.659127    0.084209    0.962036\n",
      "C    2.881975    0.956399    0.690715\n",
      "C    3.443333    1.717120    1.700484\n",
      "C    4.628944    2.418040    1.456775\n",
      "C    5.214006    2.369331    0.198096\n",
      "C    4.640626    1.644656   -0.803474\n",
      "C    3.454410    0.923736   -0.588329\n",
      "O    2.929430    0.206087   -1.597478\n",
      "Br    5.391060    3.484744    2.827209\n",
      "O   -3.911701   -0.023835   -1.446118\n",
      "C   -4.960332   -0.937320   -1.697973\n",
      "C   -5.287771   -1.708457   -0.429598\n",
      "O   -4.193606   -2.480480   -0.010183\n",
      "H    0.161357   -2.009492    1.279762\n",
      "H   -2.084299   -3.166810    1.225551\n",
      "H   -1.648578    1.027432   -1.287474\n",
      "H    0.468612    1.292449   -0.110021\n",
      "H    1.998655   -0.959181    0.928681\n",
      "H    1.282649    0.245366    1.942626\n",
      "H    2.959040    1.739222    2.714763\n",
      "H    6.125223    2.966332   -0.044572\n",
      "H    5.118498    1.574082   -1.826612\n",
      "H    2.041047    0.048006   -1.396500\n",
      "H   -5.838601   -0.385064   -2.008028\n",
      "H   -4.718271   -1.667260   -2.500249\n",
      "H   -6.169632   -2.400733   -0.599664\n",
      "H   -5.540797   -1.023226    0.414205\n"
     ]
    }
   ],
   "source": [
    "min_geom = get_min_geom(mset.geometries)\n",
    "print(min_geom)"
   ]
  },
  {
   "cell_type": "markdown",
   "metadata": {},
   "source": [
    "The converter uses a method stored in util to convert the minimum geometry to a smile."
   ]
  },
  {
   "cell_type": "code",
   "execution_count": 4,
   "metadata": {},
   "outputs": [
    {
     "name": "stdout",
     "output_type": "stream",
     "text": [
      "Oc1ccc(Br)cc1CNc1ccc2c(c1)OCCO2\n"
     ]
    }
   ],
   "source": [
    "smiles = geom_to_smiles(min_geom)\n",
    "print(smiles)"
   ]
  },
  {
   "cell_type": "markdown",
   "metadata": {},
   "source": [
    "The SMILES converter outputs the filename and stores the SMILES string in the MSet identifiers."
   ]
  },
  {
   "cell_type": "code",
   "execution_count": 5,
   "metadata": {},
   "outputs": [
    {
     "name": "stdout",
     "output_type": "stream",
     "text": [
      "{'smiles': 'Oc1ccc(Br)cc1CNc1ccc2c(c1)OCCO2'}\n"
     ]
    }
   ],
   "source": [
    "mset_to_smiles(mset.filename)\n",
    "print(mset.identifiers)"
   ]
  },
  {
   "cell_type": "code",
   "execution_count": null,
   "metadata": {},
   "outputs": [],
   "source": []
  }
 ],
 "metadata": {
  "kernelspec": {
   "display_name": "Python 3",
   "language": "python",
   "name": "python3"
  },
  "language_info": {
   "codemirror_mode": {
    "name": "ipython",
    "version": 3
   },
   "file_extension": ".py",
   "mimetype": "text/x-python",
   "name": "python",
   "nbconvert_exporter": "python",
   "pygments_lexer": "ipython3",
   "version": "3.7.7"
  }
 },
 "nbformat": 4,
 "nbformat_minor": 4
}
