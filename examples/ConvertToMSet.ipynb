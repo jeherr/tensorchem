{
 "cells": [
  {
   "cell_type": "markdown",
   "metadata": {},
   "source": [
    "Optimization, Metadynamics, and Ab Initio Molecular Dynamics (AIMD) calculations were performed on a number of\n",
    "molecules from the Chemspider Dataset. In order to use this data, it was converted into the MSet Format."
   ]
  },
  {
   "cell_type": "code",
   "execution_count": 1,
   "metadata": {},
   "outputs": [],
   "source": [
    "import scripts.make_dataset as MD"
   ]
  },
  {
   "cell_type": "markdown",
   "metadata": {},
   "source": [
    "The output files from the calculation can be directly input into the MSet converter script. If the optimization\n",
    "failed to converged, or the calculation failed in some other way, a NoneType object is returned."
   ]
  },
  {
   "cell_type": "code",
   "execution_count": 2,
   "metadata": {},
   "outputs": [],
   "source": [
    "failed_opt_filename = \"/mnt/sdb1/adriscoll/chemspider_data/outputs/expanded_opt/1/112682.out\"\n",
    "opt_filename = \"/mnt/sdb1/adriscoll/chemspider_data/outputs/expanded_opt/8/827.out\""
   ]
  },
  {
   "cell_type": "markdown",
   "metadata": {},
   "source": [
    "The script prints the file it is reading in, and whether or not it was able to build an MSet."
   ]
  },
  {
   "cell_type": "code",
   "execution_count": 3,
   "metadata": {},
   "outputs": [
    {
     "name": "stdout",
     "output_type": "stream",
     "text": [
      "Reading  /mnt/sdb1/adriscoll/chemspider_data/outputs/expanded_opt/1/112682.out\n",
      "Hit EOF on  /mnt/sdb1/adriscoll/chemspider_data/outputs/expanded_opt/1/112682.out\n",
      "No MSet built for  /mnt/sdb1/adriscoll/chemspider_data/outputs/expanded_opt/1/112682.out\n",
      "Reading  /mnt/sdb1/adriscoll/chemspider_data/outputs/expanded_opt/8/827.out\n"
     ]
    }
   ],
   "source": [
    "no_mset = MD.read_opt_data(failed_opt_filename)\n",
    "opt_mset = MD.read_opt_data(opt_filename)"
   ]
  },
  {
   "cell_type": "markdown",
   "metadata": {},
   "source": [
    "As shown below, an NoneType object is returned for a failed calculation, while a MoleculeSet object is returned for\n",
    "a successful calculation."
   ]
  },
  {
   "cell_type": "code",
   "execution_count": 4,
   "metadata": {},
   "outputs": [
    {
     "name": "stdout",
     "output_type": "stream",
     "text": [
      "None\n",
      "<tensorchem.dataset.molecule.MoleculeSet object at 0x7f1c8eaa3bb0>\n"
     ]
    }
   ],
   "source": [
    "print(no_mset)\n",
    "print(opt_mset)"
   ]
  },
  {
   "cell_type": "markdown",
   "metadata": {},
   "source": [
    "In order to build the MSet, the calculated values are found in the script and input into the build_new_geom function.\n",
    "This function requires atomic numbers, coordinates, energies, forces, dipoles, quadrupoles, charges, and the method\n",
    "and basis on which the calculation was performed.\n",
    "In order to demonstrate how this function works, I will rebuild the geometry of the MSet which I just loaded."
   ]
  },
  {
   "cell_type": "markdown",
   "metadata": {},
   "source": [
    "In order to obtain these different values, it will be necessary to iterate through all of the current geometries in\n",
    "the Molecule. I will demonstrate by using the first geometry only."
   ]
  },
  {
   "cell_type": "code",
   "execution_count": 5,
   "metadata": {},
   "outputs": [],
   "source": [
    "geom = opt_mset.geometries[0]"
   ]
  },
  {
   "cell_type": "markdown",
   "metadata": {},
   "source": [
    "It is easy to get the atomic numbers and coordinates, as those values have been defined as properties."
   ]
  },
  {
   "cell_type": "code",
   "execution_count": 6,
   "metadata": {},
   "outputs": [
    {
     "name": "stdout",
     "output_type": "stream",
     "text": [
      "(6, 8, 6, 8, 6, 6, 6, 6, 6, 6, 17, 8, 17, 8, 1, 1, 1, 1, 1, 1, 1, 1)\n",
      "((-2.8374752876, 2.0505241302, -0.8318563326), (-1.4551501021, 1.7115817562, -0.7035574341), (-1.2297722286, 0.4532286916, -0.2557724741), (-2.086139958, -0.3690486078, 0.034292272), (0.2312808329, 0.1814652696, -0.1749558753), (1.1865502757, 1.1961939529, -0.3283593834), (2.5485460941, 0.8956955547, -0.239945276), (2.9657118214, -0.415350595, 9.11032e-05), (2.0120200346, -1.4252548913, 0.1540165558), (0.6506380728, -1.1332727372, 0.0703617122), (2.5080032526, -3.0522101084, 0.4450849904), (4.3045936207, -0.6991476528, 0.0824421485), (3.685567935, 2.1799571079, -0.4330112439), (-2.3870299233, -2.4440483151, 1.7697932568), (-2.9012899521, 3.0738057051, -1.2121267375), (-3.3324978919, 2.0102778871, 0.1432542713), (-3.3310047128, 1.3838129152, -1.5458967085), (0.8808350806, 2.2238165155, -0.5119442284), (-0.0799073494, -1.9307489294, 0.1962563472), (4.3992877628, -1.6532307729, 0.2632733391), (-2.3741607877, -1.6961239509, 1.1361429663), (-3.336847513, -2.5823858569, 1.9022130245))\n"
     ]
    }
   ],
   "source": [
    "print(geom.at_nums)\n",
    "print(geom.coords)"
   ]
  },
  {
   "cell_type": "markdown",
   "metadata": {},
   "source": [
    "The energy, dipole, and quadrupole values are stored in the labels dictionary of the geometry. In order to obtain those values, I will have to call the key under which they are stored. I can also access the method and basis in this\n",
    "way."
   ]
  },
  {
   "cell_type": "code",
   "execution_count": 7,
   "metadata": {},
   "outputs": [
    {
     "name": "stdout",
     "output_type": "stream",
     "text": [
      "{'potential': [(-1530.9113020, wB97X-D, 6-311g**)], 'dipole': [([-1.9385000, 2.0072000, -1.6489000], wB97X-D, 6-311g**)], 'quadrupole': [([-86.0920000, -13.5810000, -93.1845000, 3.8711000, 1.9911000, -98.3867000], wB97X-D, 6-311g**)]}\n"
     ]
    }
   ],
   "source": [
    "print(geom.labels)"
   ]
  },
  {
   "cell_type": "markdown",
   "metadata": {},
   "source": [
    "Getting charges and forces is more difficult. They are stored in the atom class of the geometry, under the labels\n",
    "property. In order to obtain those values, I will have to call the key under which they are stored. The method and\n",
    "basis are also stored here."
   ]
  },
  {
   "cell_type": "code",
   "execution_count": 8,
   "metadata": {},
   "outputs": [
    {
     "name": "stdout",
     "output_type": "stream",
     "text": [
      "{'charge': [(-0.0000, mulliken, wB97X-D, 6-311g**)], 'forces': [([-0.0128345, 0.0111656, -0.0029599], wB97X-D, 6-311g**)]}\n"
     ]
    }
   ],
   "source": [
    "print(geom.atoms[0].labels)"
   ]
  },
  {
   "cell_type": "markdown",
   "metadata": {},
   "source": [
    "Below I access all of the values which are necessary to build a geometry and store them as variables."
   ]
  },
  {
   "cell_type": "code",
   "execution_count": 9,
   "metadata": {},
   "outputs": [],
   "source": [
    "atomic_nums = [geom.at_nums for geom in opt_mset.geometries]\n",
    "coords = [geom.coords for geom in opt_mset.geometries]\n",
    "energy = [geom.labels['potential'][0].export_json()[-1] for geom in opt_mset.geometries]\n",
    "forces = [[atom.labels['forces'][0].export_json()[-1] for atom in geom.atoms] for geom in opt_mset.geometries]\n",
    "dipole = [geom.labels['dipole'][0].export_json()[-1] for geom in opt_mset.geometries]\n",
    "quadrupole = [geom.labels['quadrupole'][0].export_json()[-1] for geom in opt_mset.geometries]\n",
    "charges = [[atom.labels['charge'][0].export_json()[-1] for atom in geom.atoms] for geom in opt_mset.geometries]\n",
    "method = opt_mset.geometries[0].labels['potential'][0].export_json()[0].split('.')[1]\n",
    "basis = opt_mset.geometries[0].labels['potential'][0].export_json()[0].split('.')[2]"
   ]
  },
  {
   "cell_type": "markdown",
   "metadata": {},
   "source": [
    "The geometry is build and printed below. When the values necessary to build a geometry are accessed from the calculation files, this function makes it very easy to turn these molecules into MSets!"
   ]
  },
  {
   "cell_type": "code",
   "execution_count": 10,
   "metadata": {},
   "outputs": [
    {
     "name": "stdout",
     "output_type": "stream",
     "text": [
      "22\n",
      "\n",
      "C   -2.843818    2.240668   -0.744255\n",
      "O   -1.483822    1.810053   -0.654941\n",
      "C   -1.285000    0.596463   -0.141562\n",
      "O   -2.194845   -0.111959    0.224881\n",
      "C    0.153497    0.234354   -0.083623\n",
      "C    1.136167    1.109810   -0.544769\n",
      "C    2.467673    0.752318   -0.483691\n",
      "C    2.859908   -0.486704    0.037371\n",
      "C    1.850312   -1.344331    0.491532\n",
      "C    0.514308   -1.004941    0.440324\n",
      "Cl    2.336269   -2.896019    1.136618\n",
      "O    4.157302   -0.795009    0.077287\n",
      "Cl    3.690859    1.841809   -1.062634\n",
      "O   -2.101156   -2.708443    1.438117\n",
      "H   -2.805403    3.233859   -1.184616\n",
      "H   -3.298390    2.275553    0.246683\n",
      "H   -3.418158    1.563110   -1.377451\n",
      "H    0.858538    2.071665   -0.952023\n",
      "H   -0.235850   -1.698378    0.809717\n",
      "H    4.262544   -1.668779    0.469623\n",
      "H   -2.329818   -1.813748    1.156470\n",
      "H   -2.269359   -3.241815    0.660736\n"
     ]
    }
   ],
   "source": [
    "opt_mset_geom = MD.build_new_geom(atomic_nums, coords, energy, forces, dipole, quadrupole, charges, method, basis)\n",
    "print(opt_mset_geom)"
   ]
  },
  {
   "cell_type": "code",
   "execution_count": null,
   "metadata": {},
   "outputs": [],
   "source": []
  }
 ],
 "metadata": {
  "kernelspec": {
   "display_name": "Python 3",
   "language": "python",
   "name": "python3"
  },
  "language_info": {
   "codemirror_mode": {
    "name": "ipython",
    "version": 3
   },
   "file_extension": ".py",
   "mimetype": "text/x-python",
   "name": "python",
   "nbconvert_exporter": "python",
   "pygments_lexer": "ipython3",
   "version": "3.8.3"
  }
 },
 "nbformat": 4,
 "nbformat_minor": 4
}
